{
 "cells": [
  {
   "cell_type": "code",
   "execution_count": 19,
   "id": "281b5d40-635c-4cb2-873b-b73adf72d983",
   "metadata": {},
   "outputs": [],
   "source": [
    "import os\n",
    "from definitions import dataset_path"
   ]
  },
  {
   "cell_type": "code",
   "execution_count": 21,
   "id": "f56ca91b-b322-477d-8936-87583928dace",
   "metadata": {},
   "outputs": [
    {
     "name": "stdout",
     "output_type": "stream",
     "text": [
      "Inside folder:  ..\\dataset\\Tobacco3482\\ADVE\n",
      "Files count inside folder:  231\n",
      "Inside folder:  ..\\dataset\\Tobacco3482\\Email\n",
      "Files count inside folder:  600\n",
      "Inside folder:  ..\\dataset\\Tobacco3482\\Form\n",
      "Files count inside folder:  432\n",
      "Inside folder:  ..\\dataset\\Tobacco3482\\Letter\n",
      "Files count inside folder:  568\n",
      "Inside folder:  ..\\dataset\\Tobacco3482\\Memo\n",
      "Files count inside folder:  621\n",
      "Inside folder:  ..\\dataset\\Tobacco3482\\News\n",
      "Files count inside folder:  189\n",
      "Inside folder:  ..\\dataset\\Tobacco3482\\Note\n",
      "Files count inside folder:  202\n",
      "Inside folder:  ..\\dataset\\Tobacco3482\\Report\n",
      "Files count inside folder:  266\n",
      "Inside folder:  ..\\dataset\\Tobacco3482\\Resume\n",
      "Files count inside folder:  121\n",
      "Inside folder:  ..\\dataset\\Tobacco3482\\Scientific\n",
      "Files count inside folder:  262\n",
      "Inside folder:  ..\\dataset\\Tobacco3482\\Tobacco3482-jpg\n",
      "Inside sub-folder:  ADVE\n",
      "Files count inside sub-folder:  231\n",
      "Inside sub-folder:  Email\n",
      "Files count inside sub-folder:  600\n",
      "Inside sub-folder:  Form\n",
      "Files count inside sub-folder:  432\n",
      "Inside sub-folder:  Letter\n",
      "Files count inside sub-folder:  568\n",
      "Inside sub-folder:  Memo\n",
      "Files count inside sub-folder:  621\n",
      "Inside sub-folder:  News\n",
      "Files count inside sub-folder:  189\n",
      "Inside sub-folder:  Note\n",
      "Files count inside sub-folder:  202\n",
      "Inside sub-folder:  Report\n",
      "Files count inside sub-folder:  266\n",
      "Inside sub-folder:  Resume\n",
      "Files count inside sub-folder:  121\n",
      "Inside sub-folder:  Scientific\n",
      "Files count inside sub-folder:  262\n",
      "Total files in sub_folder:  3492\n",
      "Total files in main folder:  3492\n"
     ]
    }
   ],
   "source": [
    "rel_path = os.path.relpath(dataset_path)\n",
    "folders = os.listdir(rel_path)\n",
    "dataset_len = 0\n",
    "\n",
    "for folder in folders:\n",
    "    img_path = os.path.join(rel_path, folder)\n",
    "    print(\"Inside folder: \",img_path)\n",
    "    \n",
    "    if folder == 'Tobacco3482-jpg':\n",
    "        sub_folder_total_files = 0\n",
    "        for sub_folder in os.listdir(img_path):\n",
    "            sub_img_path = os.path.join(img_path, sub_folder)\n",
    "            total_files = len([img_files for img_files in os.listdir(sub_img_path)])\n",
    "            sub_folder_total_files = sub_folder_total_files+total_files\n",
    "            print(\"Inside sub-folder: \",sub_folder)\n",
    "            print(\"Files count inside sub-folder: \",total_files)\n",
    "        print(\"Total files in sub_folder: \", sub_folder_total_files)\n",
    "    else:\n",
    "        total_files = len([img_files for img_files in os.listdir(img_path)])\n",
    "        dataset_len = dataset_len+total_files\n",
    "        print(\"Files count inside folder: \",total_files)\n",
    "        \n",
    "print(\"Total files in main folder: \",dataset_len)    "
   ]
  },
  {
   "cell_type": "code",
   "execution_count": 5,
   "id": "79dd65fc-f0a2-47b3-857e-5f6283a0b6de",
   "metadata": {},
   "outputs": [
    {
     "name": "stdout",
     "output_type": "stream",
     "text": [
      "['ADVE', 'Email', 'Form', 'Letter', 'Memo', 'News', 'Note', 'Report', 'Resume', 'Scientific', 'Tobacco3482-jpg']\n"
     ]
    }
   ],
   "source": [
    "print(folders)"
   ]
  },
  {
   "cell_type": "code",
   "execution_count": 3,
   "id": "23a84deb-5eea-4ecc-984b-b8bfab8aa3af",
   "metadata": {},
   "outputs": [],
   "source": [
    "import torch\n",
    "import numpy as np\n",
    "from keras.models import load_model\n",
    "from model import DCNN"
   ]
  },
  {
   "cell_type": "code",
   "execution_count": 4,
   "id": "348e862d-2707-4a58-a79a-ace7e2c47e25",
   "metadata": {},
   "outputs": [
    {
     "ename": "TypeError",
     "evalue": "__init__() missing 1 required positional argument: 'args'",
     "output_type": "error",
     "traceback": [
      "\u001b[1;31m---------------------------------------------------------------------------\u001b[0m",
      "\u001b[1;31mTypeError\u001b[0m                                 Traceback (most recent call last)",
      "\u001b[1;32mC:\\Users\\ANSHUG~1\\AppData\\Local\\Temp/ipykernel_8900/3580524851.py\u001b[0m in \u001b[0;36m<module>\u001b[1;34m\u001b[0m\n\u001b[1;32m----> 1\u001b[1;33m \u001b[0mmodel\u001b[0m \u001b[1;33m=\u001b[0m \u001b[0mDCNN\u001b[0m\u001b[1;33m(\u001b[0m\u001b[1;33m)\u001b[0m\u001b[1;33m\u001b[0m\u001b[1;33m\u001b[0m\u001b[0m\n\u001b[0m\u001b[0;32m      2\u001b[0m \u001b[0mmodel\u001b[0m\u001b[1;33m.\u001b[0m\u001b[0mload_model\u001b[0m\u001b[1;33m(\u001b[0m\u001b[1;34m'../alexnet/pytorch/alexnet_weights.h5'\u001b[0m\u001b[1;33m)\u001b[0m\u001b[1;33m\u001b[0m\u001b[1;33m\u001b[0m\u001b[0m\n\u001b[0;32m      3\u001b[0m \u001b[0mweights\u001b[0m \u001b[1;33m=\u001b[0m \u001b[0mmodel\u001b[0m\u001b[1;33m.\u001b[0m\u001b[0mget_weights\u001b[0m\u001b[1;33m(\u001b[0m\u001b[1;33m)\u001b[0m\u001b[1;33m\u001b[0m\u001b[1;33m\u001b[0m\u001b[0m\n",
      "\u001b[1;31mTypeError\u001b[0m: __init__() missing 1 required positional argument: 'args'"
     ]
    }
   ],
   "source": [
    "model = DCNN()\n",
    "model.load_model('../alexnet/pytorch/alexnet_weights.h5')\n",
    "weights = model.get_weights()"
   ]
  },
  {
   "cell_type": "code",
   "execution_count": 2,
   "id": "536d633d-91ad-4d84-93db-2a3b55fcc900",
   "metadata": {},
   "outputs": [],
   "source": [
    "def npy_loader(path):\n",
    "    sample = np.load(path, allow_pickle=True).item()\n",
    "    return sample"
   ]
  },
  {
   "cell_type": "code",
   "execution_count": null,
   "id": "ad65d3ef-0a34-4b4b-b732-d5efed695fbc",
   "metadata": {},
   "outputs": [],
   "source": [
    "s = npy_loader('../alexnet/bvlc_alexnet.npy')\n",
    "# type(s)"
   ]
  },
  {
   "cell_type": "code",
   "execution_count": 8,
   "id": "8e6b8169-4c3f-496d-bd79-34e8b21e9bbb",
   "metadata": {},
   "outputs": [],
   "source": [
    "import imp\n",
    "import torch"
   ]
  },
  {
   "cell_type": "code",
   "execution_count": 13,
   "id": "f749dca8-0214-4b12-a900-86d8bee4d64d",
   "metadata": {},
   "outputs": [
    {
     "data": {
      "text/plain": [
       "<module '../alexnet/pytorch/alexnet_weights.h5' from 'keras_to_torch.py'>"
      ]
     },
     "execution_count": 13,
     "metadata": {},
     "output_type": "execute_result"
    }
   ],
   "source": [
    "torch_weights = '../alexnet/pytorch/alexnet_weights.h5'\n",
    "A = imp.load_source(torch_weights,'keras_to_torch.py')\n",
    "# weights_torch = A.load_weights(torch_weights)\n",
    "# model_torch = A.KitModel(torch_weights)\n"
   ]
  },
  {
   "cell_type": "code",
   "execution_count": 1,
   "id": "518f9bcf-3bad-4054-938f-e1a8a2c34329",
   "metadata": {},
   "outputs": [],
   "source": [
    "import matplotlib.pyplot as plt"
   ]
  },
  {
   "cell_type": "code",
   "execution_count": null,
   "id": "7a45e2ba-347f-424c-9372-a230e81bb1e1",
   "metadata": {},
   "outputs": [],
   "source": [
    "x = [80, 100]\n",
    "y = [47.51, 52.17]\n",
    "plt.plot(x,y)\n",
    "plt.show()\n",
    "plt.save('results.jpg')"
   ]
  }
 ],
 "metadata": {
  "kernelspec": {
   "display_name": "Python 3 (ipykernel)",
   "language": "python",
   "name": "python3"
  },
  "language_info": {
   "codemirror_mode": {
    "name": "ipython",
    "version": 3
   },
   "file_extension": ".py",
   "mimetype": "text/x-python",
   "name": "python",
   "nbconvert_exporter": "python",
   "pygments_lexer": "ipython3",
   "version": "3.8.12"
  },
  "vscode": {
   "interpreter": {
    "hash": "8558a9d4ab425eb9ad379178808393f3938c36c444d8cf75244eae4e4c8e0c26"
   }
  }
 },
 "nbformat": 4,
 "nbformat_minor": 5
}
