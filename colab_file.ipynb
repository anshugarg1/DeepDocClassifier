{
 "cells": [
  {
   "cell_type": "code",
   "execution_count": 48,
   "metadata": {
    "executionInfo": {
     "elapsed": 3,
     "status": "ok",
     "timestamp": 1662578016110,
     "user": {
      "displayName": "Anshu Garg",
      "userId": "06893081260858602926"
     },
     "user_tz": -120
    },
    "id": "1kWhka52XgE6"
   },
   "outputs": [],
   "source": [
    "#Download Dataset source: https://medium.com/analytics-vidhya/how-to-download-kaggle-datasets-into-google-colab-via-google-drive-dcb348d7af07\n",
    "#and https://www.kaggle.com/general/74235"
   ]
  },
  {
   "cell_type": "code",
   "execution_count": 19,
   "metadata": {
    "executionInfo": {
     "elapsed": 3650,
     "status": "ok",
     "timestamp": 1662577125484,
     "user": {
      "displayName": "Anshu Garg",
      "userId": "06893081260858602926"
     },
     "user_tz": -120
    },
    "id": "E6xFCQLJBYnh"
   },
   "outputs": [],
   "source": [
    "! pip install -q kaggle\n",
    "from google.colab import files\n",
    "files.upload()"
   ]
  },
  {
   "cell_type": "code",
   "execution_count": 40,
   "metadata": {
    "colab": {
     "base_uri": "https://localhost:8080/"
    },
    "executionInfo": {
     "elapsed": 1900,
     "status": "ok",
     "timestamp": 1662577560667,
     "user": {
      "displayName": "Anshu Garg",
      "userId": "06893081260858602926"
     },
     "user_tz": -120
    },
    "id": "lNQRR-smRBhC",
    "outputId": "ca11664d-06d2-4758-c7b1-500ef467b8bb"
   },
   "outputs": [
    {
     "name": "stdout",
     "output_type": "stream",
     "text": [
      "Drive already mounted at /content/drive; to attempt to forcibly remount, call drive.mount(\"/content/drive\", force_remount=True).\n"
     ]
    }
   ],
   "source": [
    "from google.colab import drive\n",
    "drive.mount('/content/drive')"
   ]
  },
  {
   "cell_type": "code",
   "execution_count": 41,
   "metadata": {
    "executionInfo": {
     "elapsed": 8,
     "status": "ok",
     "timestamp": 1662577560668,
     "user": {
      "displayName": "Anshu Garg",
      "userId": "06893081260858602926"
     },
     "user_tz": -120
    },
    "id": "16E18P91Rd7q"
   },
   "outputs": [],
   "source": [
    "import os"
   ]
  },
  {
   "cell_type": "code",
   "execution_count": 42,
   "metadata": {
    "executionInfo": {
     "elapsed": 204,
     "status": "ok",
     "timestamp": 1662577562740,
     "user": {
      "displayName": "Anshu Garg",
      "userId": "06893081260858602926"
     },
     "user_tz": -120
    },
    "id": "QSXnennyTLDK"
   },
   "outputs": [],
   "source": [
    "os.environ['KAGGLE_CONFIG_DIR'] = \"/content/drive/MyDrive/Kaggle\""
   ]
  },
  {
   "cell_type": "code",
   "execution_count": 43,
   "metadata": {
    "colab": {
     "base_uri": "https://localhost:8080/"
    },
    "executionInfo": {
     "elapsed": 219,
     "status": "ok",
     "timestamp": 1662577564532,
     "user": {
      "displayName": "Anshu Garg",
      "userId": "06893081260858602926"
     },
     "user_tz": -120
    },
    "id": "LI8b24iNTliZ",
    "outputId": "cad7f9d7-0bc4-46b2-d7e8-98d55f174a40"
   },
   "outputs": [
    {
     "name": "stdout",
     "output_type": "stream",
     "text": [
      "/content/drive/MyDrive/Kaggle\n"
     ]
    }
   ],
   "source": [
    "%cd /content/drive/MyDrive/Kaggle/"
   ]
  },
  {
   "cell_type": "code",
   "execution_count": 44,
   "metadata": {
    "colab": {
     "base_uri": "https://localhost:8080/"
    },
    "executionInfo": {
     "elapsed": 37470,
     "status": "ok",
     "timestamp": 1662577607532,
     "user": {
      "displayName": "Anshu Garg",
      "userId": "06893081260858602926"
     },
     "user_tz": -120
    },
    "id": "pyWUKG1DTpaQ",
    "outputId": "5e4d5036-e45f-4aca-b003-975873d8d087"
   },
   "outputs": [
    {
     "name": "stdout",
     "output_type": "stream",
     "text": [
      "Downloading tobacco3482jpg.zip to /content/drive/MyDrive/Kaggle\n",
      "100% 3.06G/3.07G [00:36<00:00, 93.8MB/s]\n",
      "100% 3.07G/3.07G [00:36<00:00, 90.9MB/s]\n"
     ]
    }
   ],
   "source": [
    "! kaggle datasets download -d patrickaudriaz/tobacco3482jpg"
   ]
  },
  {
   "cell_type": "code",
   "execution_count": null,
   "metadata": {
    "colab": {
     "base_uri": "https://localhost:8080/"
    },
    "executionInfo": {
     "elapsed": 154547,
     "status": "ok",
     "timestamp": 1662578015360,
     "user": {
      "displayName": "Anshu Garg",
      "userId": "06893081260858602926"
     },
     "user_tz": -120
    },
    "id": "S25L2A3WTxjJ",
    "outputId": "e7efb6d9-294c-49bd-bc81-16d7dbc19141"
   },
   "outputs": [],
   "source": [
    "! unzip /content/drive/MyDrive/Kaggle/tobacco3482jpg.zip "
   ]
  },
  {
   "cell_type": "code",
   "execution_count": null,
   "metadata": {
    "id": "knM_8I0PXEG-"
   },
   "outputs": [],
   "source": [
    "os.rename('/content/drive/MyDrive/Kaggle/Tobacco3482-jpg','/content/drive/MyDrive/Kaggle/Tobacco3482')\n",
    "os.mkdir('/content/checkpoint')\n",
    "os.mkdir('/content/logs')"
   ]
  },
  {
   "cell_type": "code",
   "execution_count": null,
   "metadata": {},
   "outputs": [],
   "source": [
    "! pip install torchmetrics\n",
    "! wget http://files.heuritech.com/weights/alexnet_weights.h5"
   ]
  },
  {
   "cell_type": "code",
   "execution_count": null,
   "metadata": {},
   "outputs": [],
   "source": [
    "! python /content/main.py"
   ]
  }
 ],
 "metadata": {
  "colab": {
   "authorship_tag": "ABX9TyNv2LPF5YGsFfZjqLP3reSR",
   "collapsed_sections": [],
   "provenance": [],
   "toc_visible": true
  },
  "kernelspec": {
   "display_name": "Python 3 (ipykernel)",
   "language": "python",
   "name": "python3"
  },
  "language_info": {
   "codemirror_mode": {
    "name": "ipython",
    "version": 3
   },
   "file_extension": ".py",
   "mimetype": "text/x-python",
   "name": "python",
   "nbconvert_exporter": "python",
   "pygments_lexer": "ipython3",
   "version": "3.8.12"
  },
  "vscode": {
   "interpreter": {
    "hash": "8558a9d4ab425eb9ad379178808393f3938c36c444d8cf75244eae4e4c8e0c26"
   }
  }
 },
 "nbformat": 4,
 "nbformat_minor": 4
}
